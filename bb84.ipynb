{
 "cells": [
  {
   "cell_type": "code",
   "execution_count": 35,
   "metadata": {},
   "outputs": [],
   "source": [
    "import numpy as np\n",
    "from numpy import pi\n",
    "# importing Qiskit\n",
    "from qiskit import QuantumCircuit, transpile\n",
    "from qiskit_aer import Aer\n",
    "from qiskit.visualization import plot_histogram, plot_bloch_multivector\n",
    "from qiskit_ibm_provider import IBMProvider"
   ]
  },
  {
   "cell_type": "code",
   "execution_count": 36,
   "metadata": {},
   "outputs": [
    {
     "name": "stdout",
     "output_type": "stream",
     "text": [
      "Available backends: [<IBMBackend('ibm_kyiv')>, <IBMBackend('ibm_brisbane')>, <IBMBackend('ibm_sherbrooke')>]\n"
     ]
    }
   ],
   "source": [
    "api_token='IBM TOKEN'\n",
    "\n",
    "IBMProvider.save_account(api_token, overwrite=True)\n",
    "provider = IBMProvider()\n",
    "print(\"Available backends:\", provider.backends())"
   ]
  },
  {
   "cell_type": "code",
   "execution_count": 37,
   "metadata": {},
   "outputs": [],
   "source": [
    "from numpy.random import randint"
   ]
  },
  {
   "cell_type": "code",
   "execution_count": 45,
   "metadata": {},
   "outputs": [
    {
     "name": "stdout",
     "output_type": "stream",
     "text": [
      "alice_state [1 1 0 1]\n",
      "alice_basis [0 1 0 1]\n",
      "alice_basis [0 1 1 0]\n"
     ]
    }
   ],
   "source": [
    "num_qubits=4\n",
    "alice_basis = np.random.randint(2,size=num_qubits)\n",
    "alice_state = np.random.randint(2,size=num_qubits)\n",
    "\n",
    "bobs_basis = np.random.randint(2,size=num_qubits)\n",
    "\n",
    "print(f\"alice_state {alice_state}\")\n",
    "print(f\"alice_basis {alice_basis}\")\n",
    "print(f\"alice_basis {bobs_basis}\")\n"
   ]
  },
  {
   "cell_type": "code",
   "execution_count": 46,
   "metadata": {},
   "outputs": [],
   "source": [
    "def apply_protocol(state,basis,measurement_basis):\n",
    "    nc = len(state)\n",
    "    qc = QuantumCircuit(nc)\n",
    "    for idx in range(nc):\n",
    "        if(state[idx]==1):\n",
    "            qc.x(idx)\n",
    "    for idx in range(nc):\n",
    "        if(basis[idx]==1):\n",
    "            qc.h(idx)\n",
    "    for idx in range(nc):\n",
    "        if(measurement_basis[idx]==1):\n",
    "            qc.h(idx)\n",
    "    qc.measure_all()\n",
    "    return qc"
   ]
  },
  {
   "cell_type": "code",
   "execution_count": 47,
   "metadata": {},
   "outputs": [],
   "source": [
    "qc = apply_protocol(alice_state,alice_basis,bobs_basis)\n",
    "\n"
   ]
  },
  {
   "cell_type": "code",
   "execution_count": 43,
   "metadata": {},
   "outputs": [],
   "source": [
    "aer_sim = Aer.get_backend('aer_simulator')\n",
    "shots = 2048\n",
    "t_qpe = transpile(qc.reverse_bits(), aer_sim)\n",
    "results = aer_sim.run(t_qpe, shots=shots).result()\n",
    "bob_output = results.get_counts().most_frequent()\n"
   ]
  },
  {
   "cell_type": "code",
   "execution_count": 48,
   "metadata": {},
   "outputs": [
    {
     "ename": "IBMJobInvalidStateError",
     "evalue": "'Unable to retrieve result for job cvmf668qwj7g008y3zk0. Job was cancelled.'",
     "output_type": "error",
     "traceback": [
      "\u001b[1;31m---------------------------------------------------------------------------\u001b[0m",
      "\u001b[1;31mIBMJobInvalidStateError\u001b[0m                   Traceback (most recent call last)",
      "Cell \u001b[1;32mIn[48], line 6\u001b[0m\n\u001b[0;32m      4\u001b[0m transpiled_qc \u001b[38;5;241m=\u001b[39m transpile(qc\u001b[38;5;241m.\u001b[39mreverse_bits(), least_busy_backend, optimization_level\u001b[38;5;241m=\u001b[39m\u001b[38;5;241m3\u001b[39m)\n\u001b[0;32m      5\u001b[0m job \u001b[38;5;241m=\u001b[39m least_busy_backend\u001b[38;5;241m.\u001b[39mrun(transpiled_qc, shots\u001b[38;5;241m=\u001b[39mshots)\n\u001b[1;32m----> 6\u001b[0m bob_output \u001b[38;5;241m=\u001b[39m \u001b[43mjob\u001b[49m\u001b[38;5;241;43m.\u001b[39;49m\u001b[43mresult\u001b[49m\u001b[43m(\u001b[49m\u001b[43m)\u001b[49m\u001b[38;5;241m.\u001b[39mget_counts()\u001b[38;5;241m.\u001b[39mmost_frequent()\n",
      "File \u001b[1;32mc:\\Users\\azadp\\AppData\\Local\\Programs\\Python\\Python311\\Lib\\site-packages\\qiskit_ibm_provider\\job\\ibm_circuit_job.py:250\u001b[0m, in \u001b[0;36mIBMCircuitJob.result\u001b[1;34m(self, timeout, refresh)\u001b[0m\n\u001b[0;32m    248\u001b[0m \u001b[38;5;28mself\u001b[39m\u001b[38;5;241m.\u001b[39mwait_for_final_state(timeout\u001b[38;5;241m=\u001b[39mtimeout)\n\u001b[0;32m    249\u001b[0m \u001b[38;5;28;01mif\u001b[39;00m \u001b[38;5;28mself\u001b[39m\u001b[38;5;241m.\u001b[39m_status \u001b[38;5;129;01mis\u001b[39;00m JobStatus\u001b[38;5;241m.\u001b[39mCANCELLED:\n\u001b[1;32m--> 250\u001b[0m     \u001b[38;5;28;01mraise\u001b[39;00m IBMJobInvalidStateError(\n\u001b[0;32m    251\u001b[0m         \u001b[38;5;124m\"\u001b[39m\u001b[38;5;124mUnable to retrieve result for job \u001b[39m\u001b[38;5;132;01m{}\u001b[39;00m\u001b[38;5;124m. \u001b[39m\u001b[38;5;124m\"\u001b[39m\n\u001b[0;32m    252\u001b[0m         \u001b[38;5;124m\"\u001b[39m\u001b[38;5;124mJob was cancelled.\u001b[39m\u001b[38;5;124m\"\u001b[39m\u001b[38;5;241m.\u001b[39mformat(\u001b[38;5;28mself\u001b[39m\u001b[38;5;241m.\u001b[39mjob_id())\n\u001b[0;32m    253\u001b[0m     )\n\u001b[0;32m    254\u001b[0m \u001b[38;5;28;01mif\u001b[39;00m \u001b[38;5;28mself\u001b[39m\u001b[38;5;241m.\u001b[39m_status \u001b[38;5;241m==\u001b[39m JobStatus\u001b[38;5;241m.\u001b[39mERROR:\n\u001b[0;32m    255\u001b[0m     error_message \u001b[38;5;241m=\u001b[39m \u001b[38;5;28mself\u001b[39m\u001b[38;5;241m.\u001b[39merror_message()\n",
      "\u001b[1;31mIBMJobInvalidStateError\u001b[0m: 'Unable to retrieve result for job cvmf668qwj7g008y3zk0. Job was cancelled.'"
     ]
    }
   ],
   "source": [
    "backends = provider.backends(filters=lambda b: b.status().operational and not b.configuration().simulator)\n",
    "least_busy_backend = min(backends, key=lambda b: b.status().pending_jobs)\n",
    "shots = 2048\n",
    "transpiled_qc = transpile(qc.reverse_bits(), least_busy_backend, optimization_level=3)\n",
    "job = least_busy_backend.run(transpiled_qc, shots=shots)\n",
    "bob_output = job.result().get_counts().most_frequent()\n"
   ]
  },
  {
   "cell_type": "code",
   "execution_count": 31,
   "metadata": {},
   "outputs": [
    {
     "name": "stdout",
     "output_type": "stream",
     "text": [
      " alice key: 00011\n",
      " bob   key: 00011\n"
     ]
    }
   ],
   "source": [
    "enc_key_alice=\"\"\n",
    "enc_key_bob=\"\"\n",
    "for i in range(num_qubits):\n",
    "    if(alice_basis[i]==bobs_basis[i]):\n",
    "        enc_key_bob += str(bob_output[i])\n",
    "        enc_key_alice += str(alice_state[i])\n",
    "\n",
    "print(f\" alice key: {enc_key_alice}\")\n",
    "print(f\" bob   key: {enc_key_bob}\")"
   ]
  }
 ],
 "metadata": {
  "kernelspec": {
   "display_name": "Python 3",
   "language": "python",
   "name": "python3"
  },
  "language_info": {
   "codemirror_mode": {
    "name": "ipython",
    "version": 3
   },
   "file_extension": ".py",
   "mimetype": "text/x-python",
   "name": "python",
   "nbconvert_exporter": "python",
   "pygments_lexer": "ipython3",
   "version": "3.11.9"
  }
 },
 "nbformat": 4,
 "nbformat_minor": 2
}
