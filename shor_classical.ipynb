{
 "cells": [
  {
   "cell_type": "code",
   "execution_count": 49,
   "metadata": {},
   "outputs": [],
   "source": [
    "import numpy as np\n",
    "from numpy import pi\n",
    "# importing Qiskit\n",
    "from qiskit import QuantumCircuit, transpile\n",
    "from qiskit_aer import Aer\n",
    "from qiskit.visualization import plot_histogram, plot_bloch_multivector\n",
    "from qiskit_ibm_provider import IBMProvider"
   ]
  },
  {
   "cell_type": "code",
   "execution_count": 50,
   "metadata": {},
   "outputs": [],
   "source": [
    "def find_smallest_period(a,n):\n",
    "    num = a\n",
    "    for i in range(1,n,1):\n",
    "         if(num%n==4): \n",
    "            return i\n",
    "         num=num*a\n",
    "         num=num%n\n",
    "    return 0"
   ]
  },
  {
   "cell_type": "code",
   "execution_count": 51,
   "metadata": {},
   "outputs": [],
   "source": [
    "import math\n",
    "def are_valid_factors(x,n):\n",
    "    print(f\"solving factors for x={x}\")\n",
    "    if((x+1)%n==0):\n",
    "        return False\n",
    "    f1=math.gcd(x+2,n)\n",
    "    f2=math.gcd(x-2,n)\n",
    "    if(f1==1 or f2==1):\n",
    "        print(f\"not found factor for x={x}\")\n",
    "        return False\n",
    "    print(f\"the factors are {f1} and {f2}\")\n",
    "    return True\n"
   ]
  },
  {
   "cell_type": "code",
   "execution_count": 52,
   "metadata": {},
   "outputs": [],
   "source": [
    "\n",
    "\n",
    "def findFactors(num):\n",
    "    for a in range(num-1,2,-1):\n",
    "        if(math.gcd(a,num)==1):\n",
    "            r = find_smallest_period(a,num)\n",
    "            if(r%2==0):\n",
    "                x= pow(a,r/2)%num\n",
    "                if(are_valid_factors(int(x),num)):\n",
    "                    return\n",
    "\n"
   ]
  },
  {
   "cell_type": "code",
   "execution_count": 53,
   "metadata": {},
   "outputs": [
    {
     "name": "stdout",
     "output_type": "stream",
     "text": [
      "solving factors for x=1\n",
      "not found factor for x=1\n",
      "solving factors for x=1109\n",
      "not found factor for x=1109\n",
      "solving factors for x=1\n",
      "not found factor for x=1\n",
      "solving factors for x=1\n",
      "not found factor for x=1\n",
      "solving factors for x=1\n",
      "not found factor for x=1\n",
      "solving factors for x=1\n",
      "not found factor for x=1\n",
      "solving factors for x=1\n",
      "not found factor for x=1\n",
      "solving factors for x=908\n",
      "not found factor for x=908\n",
      "solving factors for x=1\n",
      "not found factor for x=1\n",
      "solving factors for x=1\n",
      "not found factor for x=1\n",
      "solving factors for x=1\n",
      "not found factor for x=1\n",
      "solving factors for x=1\n",
      "not found factor for x=1\n",
      "solving factors for x=1\n",
      "not found factor for x=1\n",
      "solving factors for x=1\n",
      "not found factor for x=1\n",
      "solving factors for x=1\n",
      "not found factor for x=1\n",
      "solving factors for x=1\n",
      "not found factor for x=1\n",
      "solving factors for x=1\n",
      "not found factor for x=1\n",
      "solving factors for x=1\n",
      "not found factor for x=1\n",
      "solving factors for x=1\n",
      "not found factor for x=1\n",
      "solving factors for x=1\n",
      "not found factor for x=1\n",
      "solving factors for x=1\n",
      "not found factor for x=1\n",
      "solving factors for x=1\n",
      "not found factor for x=1\n",
      "solving factors for x=1\n",
      "not found factor for x=1\n",
      "solving factors for x=200\n",
      "the factors are 101 and 11\n"
     ]
    }
   ],
   "source": [
    "findFactors(1111)"
   ]
  }
 ],
 "metadata": {
  "kernelspec": {
   "display_name": "Python 3",
   "language": "python",
   "name": "python3"
  },
  "language_info": {
   "codemirror_mode": {
    "name": "ipython",
    "version": 3
   },
   "file_extension": ".py",
   "mimetype": "text/x-python",
   "name": "python",
   "nbconvert_exporter": "python",
   "pygments_lexer": "ipython3",
   "version": "3.11.9"
  }
 },
 "nbformat": 4,
 "nbformat_minor": 2
}
